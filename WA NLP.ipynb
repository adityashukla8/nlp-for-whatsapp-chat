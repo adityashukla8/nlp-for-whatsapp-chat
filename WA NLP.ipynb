{
 "cells": [
  {
   "cell_type": "code",
   "execution_count": 80,
   "id": "6f0087d4",
   "metadata": {},
   "outputs": [],
   "source": [
    "import pandas as pd\n",
    "import numpy as np\n",
    "from collections import defaultdict\n",
    "import re\n",
    "import nltk\n",
    "import matplotlib.pyplot as plt\n",
    "import plotly.express as px\n",
    "import seaborn as sns\n",
    "\n",
    "from sklearn.feature_extraction.text import CountVectorizer, TfidfVectorizer\n",
    "from sklearn.naive_bayes import MultinomialNB\n",
    "from sklearn.metrics import accuracy_score\n",
    "from sklearn.model_selection import train_test_split\n",
    "\n",
    "from nltk.tokenize import word_tokenize\n",
    "from nltk.stem import PorterStemmer\n",
    "from nltk.corpus import stopwords\n",
    "import string\n",
    "import emojis"
   ]
  },
  {
   "cell_type": "code",
   "execution_count": 97,
   "id": "ae393709",
   "metadata": {},
   "outputs": [],
   "source": [
    "with open(r\"C:\\Users\\aditya.shukla\\Downloads\\WhatsApp Chat 1.txt\", 'r', encoding = 'utf-8') as f:\n",
    "    content = f.readlines()"
   ]
  },
  {
   "cell_type": "code",
   "execution_count": 98,
   "id": "bc454d81",
   "metadata": {},
   "outputs": [],
   "source": [
    "ppl = defaultdict(list)\n",
    " \n",
    "for line in content:\n",
    "    try:\n",
    "        if re.match('\\d{2}/\\d{2}/\\d{2}, \\d{2}:\\d{2} - (Aditya|Radhika Verma)', line):\n",
    "            parts = line.split(' - ', 1)\n",
    "            timestamp = parts[0]\n",
    "            person = parts[1].split(': ')[0]\n",
    "            text = parts[1].split(': ')[1]\n",
    "            ppl[person].append((timestamp, text))\n",
    "    except:\n",
    "        print(line)\n",
    "        pass"
   ]
  },
  {
   "cell_type": "code",
   "execution_count": 106,
   "id": "28cd60d8",
   "metadata": {},
   "outputs": [],
   "source": [
    "data = []\n",
    "\n",
    "# Loop over each person and their messages\n",
    "for person, messages in ppl.items():\n",
    "    # Loop over each message and add it to the data list\n",
    "    for message in messages:\n",
    "        timestamp = message[0]\n",
    "        text = message[1].replace('\\n', '')\n",
    "        data.append({'Timestamp': timestamp, 'Person': person, 'Message': text})\n",
    "        \n",
    "df = pd.DataFrame(data)"
   ]
  },
  {
   "cell_type": "code",
   "execution_count": 100,
   "id": "17ad7950",
   "metadata": {},
   "outputs": [],
   "source": [
    "message_types = {\n",
    "    0: 'greeting',\n",
    "    1: 'question',\n",
    "    2: 'statement',\n",
    "    3: 'other',\n",
    "    4: 'funny',\n",
    "    5: 'exclaimatory',\n",
    "    6: 'emotional', \n",
    "    7: 'media'\n",
    "}"
   ]
  },
  {
   "cell_type": "code",
   "execution_count": 101,
   "id": "bbedae9a",
   "metadata": {},
   "outputs": [],
   "source": [
    "stop_words = set(stopwords.words('english'))\n",
    "stemmer = PorterStemmer()\n",
    "\n",
    "def preprocess_text(text):\n",
    "    tokens = word_tokenize(text.lower())\n",
    "    tokens = [token for token in tokens if token not in stop_words and token not in string.punctuation]\n",
    "#     tokens = [stemmer.stem(token) for token in tokens]\n",
    "\n",
    "    return ' '.join(tokens)"
   ]
  },
  {
   "cell_type": "code",
   "execution_count": 105,
   "id": "46e2ff5c",
   "metadata": {},
   "outputs": [],
   "source": [
    "x = []\n",
    "y = []\n",
    "\n",
    "message_type_list = []\n",
    "message_type_name_list = []\n",
    "\n",
    "for message in df.Message:\n",
    "    x.append(preprocess_text(message))\n",
    "    message_type = None\n",
    "    if '?' in message.lower() or 'why' in message.lower():\n",
    "        message_type = 1 #question\n",
    "    elif '!' in message or 'wow' in message.lower() or 'damn' in message.lower() or 'dayum' in message.lower() or 'fuck' in message.lower():\n",
    "        message_type = 5 #exclaimatory\n",
    "    elif '😂' in message or '🤣' in message or '😆' in message or 'haha' in message.lower():\n",
    "        message_type = 4 #funny\n",
    "    elif 'like' in message.lower() or 'love' in message.lower() or 'hate' in message.lower() or 'hope' in message.lower() or 'wish' in message.lower() or 'feel' in message.lower() or 'believe' in message.lower() or 'think' in message.lower() or 'soch' in message.lower() or 'jhappi' in message.lower() or 'hug' in message.lower() or '🫂' in message.lower() or '💙' in message.lower():\n",
    "        message_type = 6 #emotional\n",
    "    elif 'media omitted' in message.lower():\n",
    "        message_type = 7 #media\n",
    "    elif 'goodmorning' in message.lower() or 'goodnight' in message.lower():\n",
    "        message_type = '0'\n",
    "    elif message_type is None:\n",
    "        message_type = 3 #other\n",
    "    y.append(message_type)\n",
    "    \n",
    "    message_type_list.append(message_type)\n",
    "    message_type_name_list.append(message_types[int(message_type)])\n",
    "\n",
    "df['Message Type'] = message_type_list\n",
    "df['Message Type Name'] = message_type_name_list\n",
    "df['Date'] = df.Timestamp.str.split(', ').str[0]\n",
    "df['Date'] = pd.to_datetime(df.Date, format = '%d/%m/%y')\n",
    "df['Day'] = df.Date.dt.day_name()\n",
    "df['Hour'] = df.Timestamp.str.split(', ').str[1].str.split(':').str[0]\n",
    "df['Minute'] = df.Timestamp.str.split(', ').str[1].str.split(':').str[1]\n",
    "df = df.sort_values(by = ['Date', 'Hour', 'Minute'], ascending = True).reset_index()\n"
   ]
  },
  {
   "cell_type": "code",
   "execution_count": 103,
   "id": "7d883b7f",
   "metadata": {},
   "outputs": [
    {
     "data": {
      "text/plain": [
       "<17851x7859 sparse matrix of type '<class 'numpy.int64'>'\n",
       "\twith 44095 stored elements in Compressed Sparse Row format>"
      ]
     },
     "execution_count": 103,
     "metadata": {},
     "output_type": "execute_result"
    }
   ],
   "source": [
    "vectorizer = CountVectorizer()\n",
    "# vectorizer = TfidfVectorizer()\n",
    "\n",
    "x = vectorizer.fit_transform(x)\n",
    "x"
   ]
  },
  {
   "cell_type": "code",
   "execution_count": 104,
   "id": "55444865",
   "metadata": {},
   "outputs": [
    {
     "name": "stdout",
     "output_type": "stream",
     "text": [
      "Accuracy Score: 0.73\n"
     ]
    }
   ],
   "source": [
    "x_train, x_test, y_train, y_test = train_test_split(x, y, test_size = 0.2, random_state = 101)\n",
    "\n",
    "clf = MultinomialNB()\n",
    "clf.fit(x_train, y_train)\n",
    "\n",
    "y_pred = clf.predict(x_test)\n",
    "accuracy = accuracy_score(y_test, y_pred)\n",
    "print(f'Accuracy Score: {round(accuracy, 2)}')"
   ]
  },
  {
   "cell_type": "code",
   "execution_count": 88,
   "id": "9179a019",
   "metadata": {},
   "outputs": [
    {
     "data": {
      "image/png": "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\n",
      "text/plain": [
       "<Figure size 1146.02x504 with 1 Axes>"
      ]
     },
     "metadata": {},
     "output_type": "display_data"
    }
   ],
   "source": [
    "sns.catplot(kind = 'count', x = 'Message Type Name', hue = 'Person', data = df, palette='Set2', height=7, aspect=14/7)\n",
    "plt.show()"
   ]
  },
  
   ],
   "source": [
    "emoji_pattern = re.compile(\"[\"\n",
    "        u\"\\U0001F600-\\U0001F64F\"  # emoticons\n",
    "        u\"\\U0001F300-\\U0001F5FF\"  # symbols & pictographs\n",
    "                           \"]+\", flags=re.UNICODE)\n",
    "\n",
    "df['emojis'] = df['Message'].apply(lambda x: emoji_pattern.findall(x))\n",
    "\n",
    "# aditya_emojis = df.loc[df.Person == 'Aditya', 'Message'].apply(lambda x: emoji_pattern.findall(x)).explode().to_list()\n",
    "# aditya_emojis_count = {emoji: aditya_emojis.count(emoji) for emoji in set(aditya_emojis)}\n",
    "# aditya_emojis_count"
   ]
  }
 ],
 "metadata": {
  "kernelspec": {
   "display_name": "Python 3 (ipykernel)",
   "language": "python",
   "name": "python3"
  },
  "language_info": {
   "codemirror_mode": {
    "name": "ipython",
    "version": 3
   },
   "file_extension": ".py",
   "mimetype": "text/x-python",
   "name": "python",
   "nbconvert_exporter": "python",
   "pygments_lexer": "ipython3",
   "version": "3.9.12"
  }
 },
 "nbformat": 4,
 "nbformat_minor": 5
}
